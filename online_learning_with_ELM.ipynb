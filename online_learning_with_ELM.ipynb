{
  "cells": [y
    {
      "cell_type": "code",
      "source": [
        "import pandas as pd\n",
        "import numpy as np\n",
        "import requests\n",
        "from sklearn.model_selection import train_test_split\n",
        "from sklearn.preprocessing import StandardScaler\n",
        "from sklearn.metrics import mean_squared_error, r2_score\n",
        "from datetime import datetime, timedelta"
      ],
      "metadata": {
        "id": "uiRlW0AVApuI"
      },
      "execution_count": 2,
      "outputs": []
    },
    {
      "cell_type": "markdown",
      "source": [
        "## Data Prepration"
      ],
      "metadata": {
        "id": "nY1YkVw2Ulhp"
      }
    },
    {
      "cell_type": "code",
      "source": [
        "def get_historical_data(start_date, end_date):\n",
        "    url = \"https://api.coingecko.com/api/v3/coins/bitcoin/ohlc\"\n",
        "    all_data = []\n",
        "\n",
        "    delta = end_date - start_date\n",
        "    days = delta.days\n",
        "\n",
        "    for i in range(0, days, 30):\n",
        "        params = {\n",
        "            'vs_currency': 'usd',\n",
        "            'days': 30\n",
        "        }\n",
        "        response = requests.get(url, params=params)\n",
        "\n",
        "        if response.status_code == 200:\n",
        "            data = response.json()\n",
        "            all_data.extend(data)\n",
        "            print(f\"Data for the past {i} days has been successfully retrieved.\")\n",
        "        else:\n",
        "            print(f\"Error retrieving data: {response.status_code}, {response.text}\")\n",
        "\n",
        "        start_date += timedelta(days=30)\n",
        "\n",
        "    return all_data\n",
        "\n",
        "start_date = datetime(2020, 1, 1)\n",
        "end_date = datetime.now()\n",
        "\n",
        "data = get_historical_data(start_date, end_date)\n",
        "df = pd.DataFrame(data, columns=['timestamp', 'open', 'high', 'low', 'close'])\n",
        "\n",
        "df['timestamp'] = pd.to_datetime(df['timestamp'], unit='ms')"
      ],
      "metadata": {
        "id": "kFICwkt6AxCk",
        "colab": {
          "base_uri": "https://localhost:8080/"
        },
        "outputId": "87f896e2-9fa9-433a-e11a-fc66ee1d5f3f"
      },
      "execution_count": 3,
      "outputs": [
        {
          "output_type": "stream",
          "name": "stdout",
          "text": [
            "Data for the past 0 days has been successfully retrieved.\n",
            "Data for the past 30 days has been successfully retrieved.\n",
            "Data for the past 60 days has been successfully retrieved.\n",
            "Data for the past 90 days has been successfully retrieved.\n",
            "Data for the past 120 days has been successfully retrieved.\n",
            "Error retrieving data: 429, {\"status\":{\"error_code\":429,\"error_message\":\"You've exceeded the Rate Limit. Please visit https://www.coingecko.com/en/api/pricing to subscribe to our API plans for higher rate limits.\"}}\n",
            "Error retrieving data: 429, {\"status\":{\"error_code\":429,\"error_message\":\"You've exceeded the Rate Limit. Please visit https://www.coingecko.com/en/api/pricing to subscribe to our API plans for higher rate limits.\"}}\n",
            "Error retrieving data: 429, {\"status\":{\"error_code\":429,\"error_message\":\"You've exceeded the Rate Limit. Please visit https://www.coingecko.com/en/api/pricing to subscribe to our API plans for higher rate limits.\"}}\n",
            "Error retrieving data: 429, {\"status\":{\"error_code\":429,\"error_message\":\"You've exceeded the Rate Limit. Please visit https://www.coingecko.com/en/api/pricing to subscribe to our API plans for higher rate limits.\"}}\n",
            "Error retrieving data: 429, {\"status\":{\"error_code\":429,\"error_message\":\"You've exceeded the Rate Limit. Please visit https://www.coingecko.com/en/api/pricing to subscribe to our API plans for higher rate limits.\"}}\n",
            "Error retrieving data: 429, {\"status\":{\"error_code\":429,\"error_message\":\"You've exceeded the Rate Limit. Please visit https://www.coingecko.com/en/api/pricing to subscribe to our API plans for higher rate limits.\"}}\n",
            "Error retrieving data: 429, {\"status\":{\"error_code\":429,\"error_message\":\"You've exceeded the Rate Limit. Please visit https://www.coingecko.com/en/api/pricing to subscribe to our API plans for higher rate limits.\"}}\n",
            "Error retrieving data: 429, {\"status\":{\"error_code\":429,\"error_message\":\"You've exceeded the Rate Limit. Please visit https://www.coingecko.com/en/api/pricing to subscribe to our API plans for higher rate limits.\"}}\n",
            "Error retrieving data: 429, {\"status\":{\"error_code\":429,\"error_message\":\"You've exceeded the Rate Limit. Please visit https://www.coingecko.com/en/api/pricing to subscribe to our API plans for higher rate limits.\"}}\n",
            "Error retrieving data: 429, {\"status\":{\"error_code\":429,\"error_message\":\"You've exceeded the Rate Limit. Please visit https://www.coingecko.com/en/api/pricing to subscribe to our API plans for higher rate limits.\"}}\n",
            "Error retrieving data: 429, {\"status\":{\"error_code\":429,\"error_message\":\"You've exceeded the Rate Limit. Please visit https://www.coingecko.com/en/api/pricing to subscribe to our API plans for higher rate limits.\"}}\n",
            "Error retrieving data: 429, {\"status\":{\"error_code\":429,\"error_message\":\"You've exceeded the Rate Limit. Please visit https://www.coingecko.com/en/api/pricing to subscribe to our API plans for higher rate limits.\"}}\n",
            "Error retrieving data: 429, {\"status\":{\"error_code\":429,\"error_message\":\"You've exceeded the Rate Limit. Please visit https://www.coingecko.com/en/api/pricing to subscribe to our API plans for higher rate limits.\"}}\n",
            "Error retrieving data: 429, {\"status\":{\"error_code\":429,\"error_message\":\"You've exceeded the Rate Limit. Please visit https://www.coingecko.com/en/api/pricing to subscribe to our API plans for higher rate limits.\"}}\n",
            "Error retrieving data: 429, {\"status\":{\"error_code\":429,\"error_message\":\"You've exceeded the Rate Limit. Please visit https://www.coingecko.com/en/api/pricing to subscribe to our API plans for higher rate limits.\"}}\n",
            "Error retrieving data: 429, {\"status\":{\"error_code\":429,\"error_message\":\"You've exceeded the Rate Limit. Please visit https://www.coingecko.com/en/api/pricing to subscribe to our API plans for higher rate limits.\"}}\n",
            "Error retrieving data: 429, {\"status\":{\"error_code\":429,\"error_message\":\"You've exceeded the Rate Limit. Please visit https://www.coingecko.com/en/api/pricing to subscribe to our API plans for higher rate limits.\"}}\n",
            "Error retrieving data: 429, {\"status\":{\"error_code\":429,\"error_message\":\"You've exceeded the Rate Limit. Please visit https://www.coingecko.com/en/api/pricing to subscribe to our API plans for higher rate limits.\"}}\n",
            "Error retrieving data: 429, {\"status\":{\"error_code\":429,\"error_message\":\"You've exceeded the Rate Limit. Please visit https://www.coingecko.com/en/api/pricing to subscribe to our API plans for higher rate limits.\"}}\n",
            "Error retrieving data: 429, {\"status\":{\"error_code\":429,\"error_message\":\"You've exceeded the Rate Limit. Please visit https://www.coingecko.com/en/api/pricing to subscribe to our API plans for higher rate limits.\"}}\n",
            "Error retrieving data: 429, {\"status\":{\"error_code\":429,\"error_message\":\"You've exceeded the Rate Limit. Please visit https://www.coingecko.com/en/api/pricing to subscribe to our API plans for higher rate limits.\"}}\n",
            "Error retrieving data: 429, {\"status\":{\"error_code\":429,\"error_message\":\"You've exceeded the Rate Limit. Please visit https://www.coingecko.com/en/api/pricing to subscribe to our API plans for higher rate limits.\"}}\n",
            "Error retrieving data: 429, {\"status\":{\"error_code\":429,\"error_message\":\"You've exceeded the Rate Limit. Please visit https://www.coingecko.com/en/api/pricing to subscribe to our API plans for higher rate limits.\"}}\n",
            "Error retrieving data: 429, {\"status\":{\"error_code\":429,\"error_message\":\"You've exceeded the Rate Limit. Please visit https://www.coingecko.com/en/api/pricing to subscribe to our API plans for higher rate limits.\"}}\n",
            "Error retrieving data: 429, {\"status\":{\"error_code\":429,\"error_message\":\"You've exceeded the Rate Limit. Please visit https://www.coingecko.com/en/api/pricing to subscribe to our API plans for higher rate limits.\"}}\n",
            "Error retrieving data: 429, {\"status\":{\"error_code\":429,\"error_message\":\"You've exceeded the Rate Limit. Please visit https://www.coingecko.com/en/api/pricing to subscribe to our API plans for higher rate limits.\"}}\n",
            "Error retrieving data: 429, {\"status\":{\"error_code\":429,\"error_message\":\"You've exceeded the Rate Limit. Please visit https://www.coingecko.com/en/api/pricing to subscribe to our API plans for higher rate limits.\"}}\n",
            "Error retrieving data: 429, {\"status\":{\"error_code\":429,\"error_message\":\"You've exceeded the Rate Limit. Please visit https://www.coingecko.com/en/api/pricing to subscribe to our API plans for higher rate limits.\"}}\n",
            "Error retrieving data: 429, {\"status\":{\"error_code\":429,\"error_message\":\"You've exceeded the Rate Limit. Please visit https://www.coingecko.com/en/api/pricing to subscribe to our API plans for higher rate limits.\"}}\n",
            "Error retrieving data: 429, {\"status\":{\"error_code\":429,\"error_message\":\"You've exceeded the Rate Limit. Please visit https://www.coingecko.com/en/api/pricing to subscribe to our API plans for higher rate limits.\"}}\n",
            "Error retrieving data: 429, {\"status\":{\"error_code\":429,\"error_message\":\"You've exceeded the Rate Limit. Please visit https://www.coingecko.com/en/api/pricing to subscribe to our API plans for higher rate limits.\"}}\n",
            "Error retrieving data: 429, {\"status\":{\"error_code\":429,\"error_message\":\"You've exceeded the Rate Limit. Please visit https://www.coingecko.com/en/api/pricing to subscribe to our API plans for higher rate limits.\"}}\n",
            "Error retrieving data: 429, {\"status\":{\"error_code\":429,\"error_message\":\"You've exceeded the Rate Limit. Please visit https://www.coingecko.com/en/api/pricing to subscribe to our API plans for higher rate limits.\"}}\n",
            "Error retrieving data: 429, {\"status\":{\"error_code\":429,\"error_message\":\"You've exceeded the Rate Limit. Please visit https://www.coingecko.com/en/api/pricing to subscribe to our API plans for higher rate limits.\"}}\n",
            "Error retrieving data: 429, {\"status\":{\"error_code\":429,\"error_message\":\"You've exceeded the Rate Limit. Please visit https://www.coingecko.com/en/api/pricing to subscribe to our API plans for higher rate limits.\"}}\n",
            "Error retrieving data: 429, {\"status\":{\"error_code\":429,\"error_message\":\"You've exceeded the Rate Limit. Please visit https://www.coingecko.com/en/api/pricing to subscribe to our API plans for higher rate limits.\"}}\n",
            "Error retrieving data: 429, {\"status\":{\"error_code\":429,\"error_message\":\"You've exceeded the Rate Limit. Please visit https://www.coingecko.com/en/api/pricing to subscribe to our API plans for higher rate limits.\"}}\n",
            "Error retrieving data: 429, {\"status\":{\"error_code\":429,\"error_message\":\"You've exceeded the Rate Limit. Please visit https://www.coingecko.com/en/api/pricing to subscribe to our API plans for higher rate limits.\"}}\n",
            "Error retrieving data: 429, {\"status\":{\"error_code\":429,\"error_message\":\"You've exceeded the Rate Limit. Please visit https://www.coingecko.com/en/api/pricing to subscribe to our API plans for higher rate limits.\"}}\n",
            "Error retrieving data: 429, {\"status\":{\"error_code\":429,\"error_message\":\"You've exceeded the Rate Limit. Please visit https://www.coingecko.com/en/api/pricing to subscribe to our API plans for higher rate limits.\"}}\n",
            "Error retrieving data: 429, {\"status\":{\"error_code\":429,\"error_message\":\"You've exceeded the Rate Limit. Please visit https://www.coingecko.com/en/api/pricing to subscribe to our API plans for higher rate limits.\"}}\n",
            "Error retrieving data: 429, {\"status\":{\"error_code\":429,\"error_message\":\"You've exceeded the Rate Limit. Please visit https://www.coingecko.com/en/api/pricing to subscribe to our API plans for higher rate limits.\"}}\n",
            "Error retrieving data: 429, {\"status\":{\"error_code\":429,\"error_message\":\"You've exceeded the Rate Limit. Please visit https://www.coingecko.com/en/api/pricing to subscribe to our API plans for higher rate limits.\"}}\n",
            "Error retrieving data: 429, {\"status\":{\"error_code\":429,\"error_message\":\"You've exceeded the Rate Limit. Please visit https://www.coingecko.com/en/api/pricing to subscribe to our API plans for higher rate limits.\"}}\n",
            "Error retrieving data: 429, {\"status\":{\"error_code\":429,\"error_message\":\"You've exceeded the Rate Limit. Please visit https://www.coingecko.com/en/api/pricing to subscribe to our API plans for higher rate limits.\"}}\n",
            "Error retrieving data: 429, {\"status\":{\"error_code\":429,\"error_message\":\"You've exceeded the Rate Limit. Please visit https://www.coingecko.com/en/api/pricing to subscribe to our API plans for higher rate limits.\"}}\n",
            "Error retrieving data: 429, {\"status\":{\"error_code\":429,\"error_message\":\"You've exceeded the Rate Limit. Please visit https://www.coingecko.com/en/api/pricing to subscribe to our API plans for higher rate limits.\"}}\n",
            "Error retrieving data: 429, {\"status\":{\"error_code\":429,\"error_message\":\"You've exceeded the Rate Limit. Please visit https://www.coingecko.com/en/api/pricing to subscribe to our API plans for higher rate limits.\"}}\n",
            "Error retrieving data: 429, {\"status\":{\"error_code\":429,\"error_message\":\"You've exceeded the Rate Limit. Please visit https://www.coingecko.com/en/api/pricing to subscribe to our API plans for higher rate limits.\"}}\n",
            "Error retrieving data: 429, {\"status\":{\"error_code\":429,\"error_message\":\"You've exceeded the Rate Limit. Please visit https://www.coingecko.com/en/api/pricing to subscribe to our API plans for higher rate limits.\"}}\n",
            "Error retrieving data: 429, {\"status\":{\"error_code\":429,\"error_message\":\"You've exceeded the Rate Limit. Please visit https://www.coingecko.com/en/api/pricing to subscribe to our API plans for higher rate limits.\"}}\n",
            "Error retrieving data: 429, {\"status\":{\"error_code\":429,\"error_message\":\"You've exceeded the Rate Limit. Please visit https://www.coingecko.com/en/api/pricing to subscribe to our API plans for higher rate limits.\"}}\n",
            "Error retrieving data: 429, {\"status\":{\"error_code\":429,\"error_message\":\"You've exceeded the Rate Limit. Please visit https://www.coingecko.com/en/api/pricing to subscribe to our API plans for higher rate limits.\"}}\n",
            "Error retrieving data: 429, {\"status\":{\"error_code\":429,\"error_message\":\"You've exceeded the Rate Limit. Please visit https://www.coingecko.com/en/api/pricing to subscribe to our API plans for higher rate limits.\"}}\n",
            "Error retrieving data: 429, {\"status\":{\"error_code\":429,\"error_message\":\"You've exceeded the Rate Limit. Please visit https://www.coingecko.com/en/api/pricing to subscribe to our API plans for higher rate limits.\"}}\n",
            "Error retrieving data: 429, {\"status\":{\"error_code\":429,\"error_message\":\"You've exceeded the Rate Limit. Please visit https://www.coingecko.com/en/api/pricing to subscribe to our API plans for higher rate limits.\"}}\n",
            "Error retrieving data: 429, {\"status\":{\"error_code\":429,\"error_message\":\"You've exceeded the Rate Limit. Please visit https://www.coingecko.com/en/api/pricing to subscribe to our API plans for higher rate limits.\"}}\n"
          ]
        }
      ]
    },
    {
      "cell_type": "code",
      "source": [
        "df['price_change'] = df['close'].shift(-1)\n",
        "df.dropna(inplace=True)"
      ],
      "metadata": {
        "id": "AS4UR89ABEAb"
      },
      "execution_count": 5,
      "outputs": []
    },
    {
      "cell_type": "code",
      "source": [
        "X = df[['open', 'high', 'low', 'close']].values\n",
        "y = df['price_change'].values"
      ],
      "metadata": {
        "id": "LZHWRSvoBJpF"
      },
      "execution_count": 6,
      "outputs": []
    },
    {
      "cell_type": "code",
      "source": [
        "X_train, X_test, y_train, y_test = train_test_split(X, y, test_size=0.2, random_state=42)"
      ],
      "metadata": {
        "id": "IPcdG343BM-W"
      },
      "execution_count": 7,
      "outputs": []
    },
    {
      "cell_type": "code",
      "source": [
        "scaler = StandardScaler()\n",
        "X_train = scaler.fit_transform(X_train)\n",
        "X_test = scaler.transform(X_test)"
      ],
      "metadata": {
        "id": "Kz6XZGarBn3M"
      },
      "execution_count": 8,
      "outputs": []
    },
    {
      "cell_type": "markdown",
      "source": [
        "##Model configuration"
      ],
      "metadata": {
        "id": "d1ZxPBjfWUtl"
      }
    },
    {
      "cell_type": "code",
      "source": [
        "class ELM:\n",
        "    def __init__(self, n_hidden, learning_rate=0.01):\n",
        "        self.n_hidden = n_hidden\n",
        "        self.W = None\n",
        "        self.b = None\n",
        "        self.beta = None\n",
        "        self.learning_rate = learning_rate\n",
        "\n",
        "    def _activation_function(self, X):\n",
        "        return 1 / (1 + np.exp(-X))\n",
        "\n",
        "    def fit(self, X, y):\n",
        "        self.W = np.random.rand(X.shape[1], self.n_hidden)\n",
        "        self.b = np.random.rand(self.n_hidden)\n",
        "        H = self._activation_function(np.dot(X, self.W) + self.b)\n",
        "        self.beta = np.dot(np.linalg.pinv(H), y)\n",
        "\n",
        "    def partial_fit(self, X, y):\n",
        "        H = self._activation_function(np.dot(X, self.W) + self.b)\n",
        "\n",
        "        self.beta = np.dot(np.linalg.pinv(H), y)\n",
        "\n",
        "        for i in range(len(X)):\n",
        "            x_i = X[i].reshape(1, -1)\n",
        "            y_i = y[i]\n",
        "\n",
        "            H_i = self._activation_function(np.dot(x_i, self.W) + self.b)\n",
        "\n",
        "            error = y_i - np.dot(H_i, self.beta)\n",
        "\n",
        "            self.W += self.learning_rate * error * H_i.T * x_i\n",
        "\n",
        "            self.b += self.learning_rate * error * H_i.flatten()\n",
        "\n",
        "    def predict(self, X):\n",
        "        H = self._activation_function(np.dot(X, self.W) + self.b)\n",
        "        return np.dot(H, self.beta)"
      ],
      "metadata": {
        "id": "VKa8bQdPAtA2"
      },
      "execution_count": 9,
      "outputs": []
    },
    {
      "cell_type": "markdown",
      "source": [
        "##Model Training and Evaluation"
      ],
      "metadata": {
        "id": "hDeBkEWHVDjH"
      }
    },
    {
      "cell_type": "code",
      "source": [
        "param_grid = {\n",
        "    'n_hidden': [50, 100, 150, 200]\n",
        "}"
      ],
      "metadata": {
        "id": "T4ciHBN-Bugr"
      },
      "execution_count": 10,
      "outputs": []
    },
    {
      "cell_type": "code",
      "source": [
        "elm_model = ELM(n_hidden=100)\n",
        "best_mae = float('inf')\n",
        "best_n_hidden = None"
      ],
      "metadata": {
        "id": "3lq9AItbBzwb"
      },
      "execution_count": 11,
      "outputs": []
    },
    {
      "cell_type": "code",
      "source": [
        "for n_hidden in param_grid['n_hidden']:\n",
        "    model = ELM(n_hidden=n_hidden)\n",
        "    model.fit(X_train, y_train)\n",
        "    y_pred = model.predict(X_test)\n",
        "\n",
        "    mae = np.mean(np.abs(y_test - y_pred))\n",
        "\n",
        "    if mae < best_mae:\n",
        "        best_mae = mae\n",
        "        best_n_hidden = n_hidden"
      ],
      "metadata": {
        "id": "293Pd7GDCA6C"
      },
      "execution_count": 12,
      "outputs": []
    },
    {
      "cell_type": "code",
      "source": [
        "final_model = ELM(n_hidden=best_n_hidden)\n",
        "final_model.fit(X_train, y_train)\n",
        "y_pred_final = final_model.predict(X_test)"
      ],
      "metadata": {
        "id": "J3rhk2GKCEsj"
      },
      "execution_count": 13,
      "outputs": []
    },
    {
      "cell_type": "code",
      "source": [
        "def partial_fit(self, X, y):\n",
        "    H = self._activation_function(np.dot(X, self.W) + self.b)\n",
        "\n",
        "    self.beta = np.dot(np.linalg.pinv(H), y)\n",
        "\n",
        "    self.W += np.random.rand(X.shape[1], self.n_hidden) * 0.01\n",
        "    self.b += np.random.rand(self.n_hidden) * 0.01"
      ],
      "metadata": {
        "id": "I_MF-Q-ICU5W"
      },
      "execution_count": 14,
      "outputs": []
    },
    {
      "cell_type": "code",
      "source": [
        "mse = mean_squared_error(y_test, y_pred_final)\n",
        "r2 = r2_score(y_test, y_pred_final)\n",
        "\n",
        "print(f\"Mean Squared Error: {mse}\")\n",
        "print(f'R² Score: {r2}')\n",
        "print(f\"Best number of hidden neurons: {best_n_hidden} with MAE: {best_mae}\")"
      ],
      "metadata": {
        "colab": {
          "base_uri": "https://localhost:8080/"
        },
        "id": "GPnWURjECYzV",
        "outputId": "e899442e-ab0b-41fb-dc1a-2d9579f6de49"
      },
      "execution_count": 15,
      "outputs": [
        {
          "output_type": "stream",
          "name": "stdout",
          "text": [
            "Mean Squared Error: 0.0001096762720003931\n",
            "R² Score: 0.9999999999927125\n",
            "Best number of hidden neurons: 200 with MAE: 0.0032468583848741317\n"
          ]
        }
      ]
    }
  ],
  "metadata": {
    "colab": {
      "provenance": []
    },
    "kernelspec": {
      "display_name": "Python 3",
      "name": "python3"
    },
    "language_info": {
      "name": "python"
    }
  },
  "nbformat": 4,
  "nbformat_minor": 0
}
